{
 "cells": [
  {
   "cell_type": "markdown",
   "metadata": {},
   "source": [
    "Here, our goal is to identify whether questions asked on Quora, a quasi-forum website with over 100 million visitors a month, are duplicates of questions that have already been asked. This could be useful, for example, to instantly provide answers to questions that have already been answered. We are tasked with predicting whether a pair of questions are duplicates or not on the basis of training data"
   ]
  },
  {
   "cell_type": "code",
   "execution_count": 66,
   "metadata": {},
   "outputs": [],
   "source": [
    "import numpy as np\n",
    "import pandas as pd \n",
    "import math\n",
    "import seaborn as sns\n",
    "import matplotlib.pyplot as plt\n",
    "%matplotlib inline\n",
    "from collections import Counter\n",
    "from nltk import word_tokenize"
   ]
  },
  {
   "cell_type": "markdown",
   "metadata": {},
   "source": [
    "## Data  and Semantic Analysis"
   ]
  },
  {
   "cell_type": "markdown",
   "metadata": {},
   "source": [
    "In further steps data is analyzed and our training set include 20,000 questions for faster processing.\n",
    "\n",
    "We are given a minimal number of data fields here, consisting of:<br>\n",
    "id: Looks like a simple rowID<br>\n",
    "qid{1, 2}: The unique ID of each question in the pair<br>\n",
    "question{1, 2}: The actual textual contents of the questions.<br>\n",
    "is_duplicate: The label that we are trying to predict - whether the two questions are duplicates of each other.<br>"
   ]
  },
  {
   "cell_type": "code",
   "execution_count": 67,
   "metadata": {},
   "outputs": [
    {
     "name": "stdout",
     "output_type": "stream",
     "text": [
      "Shape of base training File =  (20000, 6)\n",
      "What is the step by step guide to invest in share market in india?\n",
      "What is the step by step guide to invest in share market?\n",
      "\n",
      "What is the story of Kohinoor (Koh-i-Noor) Diamond?\n",
      "What would happen if the Indian government stole the Kohinoor (Koh-i-Noor) diamond back?\n",
      "\n",
      "How can I increase the speed of my internet connection while using a VPN?\n",
      "How can Internet speed be increased by hacking through DNS?\n",
      "\n",
      "Why am I mentally very lonely? How can I solve it?\n",
      "Find the remainder when [math]23^{24}[/math] is divided by 24,23?\n",
      "\n"
     ]
    }
   ],
   "source": [
    "train = pd.read_csv(\"train.csv\", nrows=20000)\n",
    "print (\"Shape of base training File = \", train.shape)\n",
    "\n",
    "a = 0 \n",
    "for i in range(a,a+4):\n",
    "    print(train.question1[i])\n",
    "    print(train.question2[i])\n",
    "    print()\n"
   ]
  },
  {
   "cell_type": "markdown",
   "metadata": {},
   "source": [
    "Most of the questions appears mostly ones in dataset.The log-histogram obtained below depicts numbers of time question appears on the basis of qid provided in dataset"
   ]
  },
  {
   "cell_type": "code",
   "execution_count": 68,
   "metadata": {},
   "outputs": [
    {
     "name": "stdout",
     "output_type": "stream",
     "text": [
      "Total number of question pairs for training: 20000\n",
      "Duplicate pairs: 37.37%\n",
      "length of qid1 : 20000\n",
      "length of qid2 : 20000\n",
      "length of qids : 40000\n",
      "Total number of questions in the training data: 37767\n",
      "Number of questions that appear multiple times: 1806\n",
      "\n"
     ]
    },
    {
     "data": {
      "image/png": "[encoded data removed]",
      "text/plain": [
       "<Figure size 864x360 with 1 Axes>"
      ]
     },
     "metadata": {
      "needs_background": "light"
     },
     "output_type": "display_data"
    }
   ],
   "source": [
    "print('Total number of question pairs for training: {}'.format(len(train)))\n",
    "print('Duplicate pairs: {}%'.format(round(train['is_duplicate'].mean()*100, 2)))\n",
    "qids = pd.Series(train['qid1'].tolist() + train['qid2'].tolist())\n",
    "print(\"length of qid1 :\",len(train['qid1'].tolist()))\n",
    "print(\"length of qid2 :\",len(train['qid2'].tolist()))\n",
    "print(\"length of qids :\",len(qids))\n",
    "print('Total number of questions in the training data: {}'.format(len(\n",
    "    np.unique(qids))))\n",
    "print('Number of questions that appear multiple times: {}'.format(np.sum(qids.value_counts() > 1)))\n",
    "\n",
    "plt.figure(figsize=(12, 5))\n",
    "plt.hist(qids.value_counts(), bins=50)\n",
    "plt.yscale('log', nonposy='clip')\n",
    "plt.title('Log-Histogram of question appearance counts')\n",
    "plt.xlabel('Number of occurences of question')\n",
    "plt.ylabel('Number of questions')\n",
    "print()"
   ]
  },
  {
   "cell_type": "markdown",
   "metadata": {},
   "source": [
    "Next, It shows usage of different punctuation in questions - this may form a basis for some interesting features later on and further pre-processing is carried out on data."
   ]
  },
  {
   "cell_type": "code",
   "execution_count": 69,
   "metadata": {},
   "outputs": [
    {
     "name": "stdout",
     "output_type": "stream",
     "text": [
      "Questions with question marks: 99.89%\n",
      "Questions with [math] tags: 0.11%\n",
      "Questions with full stops: 6.29%\n",
      "Questions with capitalised first letters: 99.82%\n",
      "Questions with capital letters: 99.95%\n",
      "Questions with numbers: 11.82%\n"
     ]
    }
   ],
   "source": [
    "train_qs = pd.Series(train['question1'].tolist() + train['question2'].tolist()).astype(str)\n",
    "qmarks = np.mean(train_qs.apply(lambda x: '?' in x))\n",
    "math = np.mean(train_qs.apply(lambda x: '[math]' in x))\n",
    "fullstop = np.mean(train_qs.apply(lambda x: '.' in x))\n",
    "capital_first = np.mean(train_qs.apply(lambda x: x[0].isupper()))\n",
    "capitals = np.mean(train_qs.apply(lambda x: max([y.isupper() for y in x])))\n",
    "numbers = np.mean(train_qs.apply(lambda x: max([y.isdigit() for y in x])))\n",
    "\n",
    "print('Questions with question marks: {:.2f}%'.format(qmarks * 100))\n",
    "print('Questions with [math] tags: {:.2f}%'.format(math * 100))\n",
    "print('Questions with full stops: {:.2f}%'.format(fullstop * 100))\n",
    "print('Questions with capitalised first letters: {:.2f}%'.format(capital_first * 100))\n",
    "print('Questions with capital letters: {:.2f}%'.format(capitals * 100))\n",
    "print('Questions with numbers: {:.2f}%'.format(numbers * 100))"
   ]
  },
  {
   "cell_type": "markdown",
   "metadata": {},
   "source": [
    "## Data Preprocessing"
   ]
  },
  {
   "cell_type": "markdown",
   "metadata": {},
   "source": [
    "Cleaning consist of getting rid of the less useful parts of text through stopword removal, dealing with capitalization and characters and other details.\n",
    "\n",
    "1 Stopword Removal:<br>\n",
    "A majority of the words in a given text are connecting parts of a sentence rather than showing subjects, objects or intent. Word like “the” or “and” cab be removed by comparing text to a list of stopword.The words like “what”, “which” and “how” are not removed form the text  as may have strong signals in determinig the context of questions.<br>\n",
    "2 Remove punctuation.<br>\n",
    "3 Correct typos.<br>\n",
    "4 Change abbreviations to its original terms.<br>\n",
    "5 Remove comma between numbers.<br>\n",
    "6 Change special chars to words. And so on.<br>\n",
    "7 Stemming :<br>\n",
    "Stemming is a process where words are reduced to a root by removing inflection through dropping unnecessary characters, usually a suffix.The results can be used to identify relationships and commonalities across large datasets."
   ]
  },
  {
   "cell_type": "code",
   "execution_count": 70,
   "metadata": {},
   "outputs": [],
   "source": [
    "def cleanup(data):\n",
    "    data['question1'] = data['question1'].apply(lambda x: x.rstrip('?'))\n",
    "    data['question2'] = data['question2'].apply(lambda x: x.rstrip('?'))\n",
    "    # Removing non ASCII chars\n",
    "    data['question1']=data['question1'].apply(lambda x: x.replace(r'[^\\x00-\\x7f]',r' '))\n",
    "    data['question2']=data['question2'].apply(lambda x: x.replace(r'[^\\x00-\\x7f]',r' ')) \n",
    "    return data"
   ]
  },
  {
   "cell_type": "code",
   "execution_count": 71,
   "metadata": {},
   "outputs": [
    {
     "name": "stdout",
     "output_type": "stream",
     "text": [
      "Shape of base training data after cleaning =  (20000, 6)\n",
      "(20000, 6)\n"
     ]
    }
   ],
   "source": [
    "# Remove missing values and duplicates from training data\n",
    "train.drop_duplicates(inplace=True)\n",
    "train.dropna(inplace=True)\n",
    "train=cleanup(train)\n",
    "\n",
    "print(\"Shape of base training data after cleaning = \", train.shape)\n",
    "print (train.shape)"
   ]
  },
  {
   "cell_type": "code",
   "execution_count": 72,
   "metadata": {},
   "outputs": [],
   "source": [
    "stop_words = ['the','a','an','and','but','if','or','because','as','what','which','this','that','these','those','then',\n",
    "              'just','so','than','such','both','through','about','for','is','of','while','during','to','What','Which',\n",
    "              'Is','If','While','This']"
   ]
  },
  {
   "cell_type": "code",
   "execution_count": 73,
   "metadata": {},
   "outputs": [],
   "source": [
    "def remove_reg(text, remove_stop_words=True, stem_words=False):\n",
    "\n",
    "    # Clean the text\n",
    "    text = re.sub(r\"[^A-Za-z0-9]\", \" \", text)\n",
    "    text = re.sub(r\"\\'s\", \" \", text)\n",
    "    text = re.sub(r\"\\'ve\", \" have \", text)\n",
    "    text = re.sub(r\"can't\", \"cannot \", text)\n",
    "    text = re.sub(r\"n't\", \" not \", text)\n",
    "    text = re.sub(r\"I'm\", \"I am\", text)\n",
    "    text = re.sub(r\" m \", \" am \", text)\n",
    "    text = re.sub(r\"\\'re\", \" are \", text)\n",
    "    text = re.sub(r\"\\'d\", \" would \", text)\n",
    "    text = re.sub(r\"\\'ll\", \" will \", text)\n",
    "    text = re.sub(r\"\\0s\", \"0\", text)\n",
    "    text = re.sub(r\"e-mail\", \"email\", text)\n",
    "    text = re.sub(r\"\\s{2,}\", \" \", text)\n",
    "    text = re.sub(r\" usa \", \" America \", text)\n",
    "    text = re.sub(r\" USA \", \" America \", text)\n",
    "    text = re.sub(r\" u s \", \" America \", text)\n",
    "    text = re.sub(r\" uk \", \" England \", text)\n",
    "    text = re.sub(r\" UK \", \" England \", text)\n",
    "    text = re.sub(r\"quora\", \"Quora\", text)\n",
    "    text = re.sub(r\" dms \", \"direct messages \", text)  \n",
    "    text = re.sub(r\"kms\", \" kilometers \", text)\n",
    "    text = re.sub(r\"KMs\", \" kilometers \", text)\n",
    "    text = re.sub(r\" cs \", \" computer science \", text) \n",
    "    text = re.sub(r\" upvotes \", \" up votes \", text)\n",
    "    text = re.sub(r\" iPhone \", \" phone \", text)\n",
    "    text = re.sub(r\"\\0rs \", \" rs \", text) \n",
    "    text = re.sub(r\"calender\", \"calendar\", text)\n",
    "    text = re.sub(r\"ios\", \"operating system\", text)\n",
    "    text = re.sub(r\"gps\", \"GPS\", text)\n",
    "    text = re.sub(r\"gst\", \"GST\", text)\n",
    "    text = re.sub(r\"the US\", \"America\", text)\n",
    "    text = re.sub(r\" J K \", \" JK \", text)\n",
    "    text = re.sub(r'[^\\w\\s]','',text)\n",
    "    \n",
    "    return text\n",
    "    "
   ]
  },
  {
   "cell_type": "markdown",
   "metadata": {},
   "source": [
    "## The TF-IDF Model"
   ]
  },
  {
   "cell_type": "markdown",
   "metadata": {},
   "source": [
    "The two methods below are parts of implementation to the idf (inverse document frequency).<br>\n",
    "\n",
    "The first function returns the count of sentences/documents/paragraphs where the word is present.\n",
    "\n",
    "The second, idf method returns the value of the log."
   ]
  },
  {
   "cell_type": "code",
   "execution_count": 74,
   "metadata": {},
   "outputs": [],
   "source": [
    "def n_containing(qlist, word):\n",
    "    return float(qlist[word])"
   ]
  },
  {
   "cell_type": "code",
   "execution_count": 75,
   "metadata": {},
   "outputs": [],
   "source": [
    "def tf(question, word):\n",
    "    if word not in question:\n",
    "        return 0\n",
    "    count = dict(Counter(question))\n",
    "    q_len = len(question)\n",
    "    return (float(count[word]) / float(q_len))"
   ]
  },
  {
   "cell_type": "code",
   "execution_count": 76,
   "metadata": {},
   "outputs": [],
   "source": [
    "def idf(qlist, word):\n",
    "    val = float(len(qlist.keys())) / (1.0 + n_containing(qlist, word))\n",
    "    return np.log(val)"
   ]
  },
  {
   "cell_type": "markdown",
   "metadata": {},
   "source": [
    "The tfidf function is used to return a number, of which I would be making a vector, of the two statements (I won't usually give a single word, the above is a utility function I used from an old implementation).\n",
    "\n",
    "For the function below, v1 and v2 are two vectors (list of numbers in this case) of the same dimensions. Function returns the cosine distance between those which is the ratio of the dot product of the vectors."
   ]
  },
  {
   "cell_type": "code",
   "execution_count": 77,
   "metadata": {},
   "outputs": [],
   "source": [
    "def tfidf(question, qlist, word):\n",
    "    return tf(question, word) * idf(qlist, word)"
   ]
  },
  {
   "cell_type": "code",
   "execution_count": 78,
   "metadata": {},
   "outputs": [],
   "source": [
    "def cosine(v1, v2):\n",
    "    v1 = np.array(v1)\n",
    "    v2 = np.array(v2)\n",
    "\n",
    "    return np.dot(v1, v2) / (np.sqrt(np.sum(v1**2)) * np.sqrt(np.sum(v2**2)))"
   ]
  },
  {
   "cell_type": "code",
   "execution_count": 79,
   "metadata": {},
   "outputs": [],
   "source": [
    "import re\n",
    "import gensim\n",
    "from gensim import corpora\n",
    "from nltk.corpus import stopwords\n",
    "from nltk.stem import WordNetLemmatizer\n",
    "from nltk.stem.porter import *\n",
    "\n",
    "words = re.compile(r\"\\w+\",re.I)\n",
    "stopwords = set(stopwords.words(\"english\"))\n",
    "stemmer = PorterStemmer()\n",
    "\n",
    "train_qs1 = train[['id', 'question1', 'question2', 'is_duplicate']]\n",
    "\n",
    "qlist = []\n",
    "for row in train_qs1.itertuples():\n",
    "    try:\n",
    "        if len(str(row[2])) > 10:\n",
    "            q1 = ([remove_reg((w)) for w in word_tokenize(row[2].lower()) if w not in stop_words])\n",
    "        if len(str(row[3])) > 10:\n",
    "            q2 = ([remove_reg((w)) for w in word_tokenize(row[3].lower()) if w not in stop_words])\n",
    "        qlist += q1 + q2\n",
    "    except TypeError:\n",
    "        pass\n",
    "\n",
    "# print len(qlist)\n",
    "qlist = dict(Counter(qlist))\n",
    "#print(qlist)"
   ]
  },
  {
   "cell_type": "code",
   "execution_count": 80,
   "metadata": {},
   "outputs": [
    {
     "name": "stdout",
     "output_type": "stream",
     "text": [
      "(18000, 6)\n",
      "(2000, 6)\n"
     ]
    }
   ],
   "source": [
    "from sklearn.model_selection import train_test_split\n",
    "\n",
    "train,test = train_test_split(train, test_size = 0.1)\n",
    "print (train.shape)\n",
    "print (test.shape)"
   ]
  },
  {
   "cell_type": "markdown",
   "metadata": {},
   "source": [
    "## Predictions"
   ]
  },
  {
   "cell_type": "markdown",
   "metadata": {},
   "source": [
    "1 Fitting the tf-idf model to the test and train data.<br> \n",
    "2 Creating y_pred for binary evaluation of test data on the basis of cosine similarity of tf-idf vector and setting a threshold on the cosine value <br>\n",
    "3 The accuracy of the model is calculated using sklearn library"
   ]
  },
  {
   "cell_type": "code",
   "execution_count": 81,
   "metadata": {},
   "outputs": [],
   "source": [
    "test_qs = test[['id', 'question1', 'question2', 'is_duplicate']]  \n",
    "def predict(test):\n",
    "    y_output=[]\n",
    "    for row in test_qs.itertuples():\n",
    "        if len(str(row[2])) > 10 and len(str(row[3])) > 10:\n",
    "#             wordvec1 = word_tokenize(row[2].lower())\n",
    "#             wordvec2 = word_tokenize(row[3].lower())\n",
    "#             words = wordvec1 + wordvec2\n",
    "#             words = list(set([word for word in words if word != '?']))\n",
    "\n",
    "            wordvec1 = ([remove_reg((w)) for w in word_tokenize(row[2].lower()) if w not in stopwords])\n",
    "            wordvec2 = ([remove_reg((w)) for w in word_tokenize(row[3].lower()) if w not in stopwords])\n",
    "            ques1=\" \"\n",
    "            ques2=\" \"\n",
    "            ques1=ques1.join(wordvec1)\n",
    "            ques2=ques2.join(wordvec2)\n",
    "#           print(ques1)\n",
    "#           print(ques2)\n",
    "            words = wordvec1 + wordvec2\n",
    "            words = list(set([word for word in words if word != '?']))\n",
    "\n",
    "            # print words\n",
    "\n",
    "            vec1 = []\n",
    "            vec2 = []\n",
    "            for word in words:\n",
    "                vec1.append(tfidf(wordvec1, qlist, word))\n",
    "                vec2.append(tfidf(wordvec2, qlist, word))\n",
    "            \n",
    "            y_output.append(cosine(vec1,vec2))\n",
    "#           print(cosine(vec1,vec2))\n",
    "        else:\n",
    "#           print(0)\n",
    "            y_output.append(0)\n",
    "    return y_output"
   ]
  },
  {
   "cell_type": "code",
   "execution_count": 82,
   "metadata": {},
   "outputs": [],
   "source": [
    "y_pred = predict(test)"
   ]
  },
  {
   "cell_type": "code",
   "execution_count": 83,
   "metadata": {
    "scrolled": true
   },
   "outputs": [],
   "source": [
    "y=[]\n",
    "for row in test.itertuples():\n",
    "    y.append(row[6])"
   ]
  },
  {
   "cell_type": "code",
   "execution_count": 84,
   "metadata": {},
   "outputs": [
    {
     "name": "stdout",
     "output_type": "stream",
     "text": [
      "[0.6119823080016084, 0.6133979015334948, 0.6143896523848019, 0.6170731707317073, 0.6185230518155854, 0.6185989348627612, 0.6190476190476191, 0.621487603305785, 0.6224066390041493, 0.6267782426778241, 0.6318009278785323, 0.6329651656754461, 0.6358579375267437, 0.6371071889797676, 0.6409366869037294, 0.6418889374726716, 0.6434859154929576, 0.6441881100266194, 0.6436884512085944, 0.6453068592057762, 0.6475148198814409, 0.6474094452086199, 0.6472222222222223, 0.6485727655591952, 0.648956356736243, 0.648545541249404, 0.6490638502160346, 0.6494644595910419, 0.6459871984244214, 0.6444554947787171, 0.6437246963562753, 0.6424923391215526, 0.6399176954732511, 0.6400828586224755, 0.639832723470988, 0.6313559322033898, 0.6262083780880774, 0.623574144486692, 0.6226622662266227, 0.6177777777777778, 0.615990990990991, 0.611333714939897, 0.6083916083916084, 0.6020106445890006, 0.5997610513739546, 0.5991510006064281, 0.5906288532675709, 0.5845771144278606, 0.5808080808080809, 0.582375478927203, 0.5795601552393274, 0.5699277741300066, 0.5611702127659574, 0.559676331759946, 0.5525238744884038]\n"
     ]
    }
   ],
   "source": [
    "from sklearn.metrics import confusion_matrix\n",
    "from sklearn.metrics import f1_score\n",
    "\n",
    "score=[]\n",
    "level=0.1\n",
    "for i in range(0,55):\n",
    "    y_out=[]\n",
    "    for k in y_pred:\n",
    "        if k>level:\n",
    "            y_out.append(1)\n",
    "        else:\n",
    "            y_out.append(0)\n",
    "    level=level+.01\n",
    "    mat=confusion_matrix(y, y_out)\n",
    "    score.append(f1_score(y,y_out))\n",
    "    \n",
    "print(score)"
   ]
  },
  {
   "cell_type": "code",
   "execution_count": 85,
   "metadata": {},
   "outputs": [
    {
     "data": {
      "image/png": "[encoded data removed]",
      "text/plain": [
       "<Figure size 432x288 with 1 Axes>"
      ]
     },
     "metadata": {
      "needs_background": "light"
     },
     "output_type": "display_data"
    }
   ],
   "source": [
    "l=[]\n",
    "thr=0.15\n",
    "for i in range(0,55):\n",
    "    l.append(thr)\n",
    "    thr=thr+.01\n",
    "plt.plot(l,score)\n",
    "plt.xlabel('threshold value ')\n",
    "plt.ylabel('Predicted f1 score score')\n",
    "plt.title('f1score vs threshold value')\n",
    "plt.show()"
   ]
  },
  {
   "cell_type": "code",
   "execution_count": 86,
   "metadata": {},
   "outputs": [
    {
     "name": "stdout",
     "output_type": "stream",
     "text": [
      "maximum accuracy obtained id :  0.6494644595910419\n",
      "maximum accuracy obtained at threshold :  27\n"
     ]
    }
   ],
   "source": [
    "print(\"maximum accuracy obtained id : \",max(score))\n",
    "idx=score.index(max(score))\n",
    "print(\"maximum accuracy obtained at threshold : \",idx)"
   ]
  },
  {
   "cell_type": "code",
   "execution_count": 87,
   "metadata": {},
   "outputs": [
    {
     "data": {
      "text/plain": [
       "array([[613, 619],\n",
       "       [101, 667]])"
      ]
     },
     "execution_count": 87,
     "metadata": {},
     "output_type": "execute_result"
    }
   ],
   "source": [
    "y_out=[]\n",
    "thr=0.1+(idx*0.01)\n",
    "for k in y_pred:\n",
    "    if k>=thr:\n",
    "        y_out.append(1)\n",
    "    else:\n",
    "        y_out.append(0)\n",
    "confusion_matrix(y, y_out)"
   ]
  },
  {
   "cell_type": "code",
   "execution_count": null,
   "metadata": {},
   "outputs": [],
   "source": []
  },
  {
   "cell_type": "code",
   "execution_count": null,
   "metadata": {},
   "outputs": [],
   "source": []
  }
 ],
 "metadata": {
  "kernelspec": {
   "display_name": "Python 3",
   "language": "python",
   "name": "python3"
  },
  "language_info": {
   "codemirror_mode": {
    "name": "ipython",
    "version": 3
   },
   "file_extension": ".py",
   "mimetype": "text/x-python",
   "name": "python",
   "nbconvert_exporter": "python",
   "pygments_lexer": "ipython3",
   "version": "3.6.8"
  }
 },
 "nbformat": 4,
 "nbformat_minor": 2
}
